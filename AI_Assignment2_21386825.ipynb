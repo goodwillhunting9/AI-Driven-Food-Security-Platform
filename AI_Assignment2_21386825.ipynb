{
  "nbformat": 4,
  "nbformat_minor": 0,
  "metadata": {
    "colab": {
      "private_outputs": true,
      "provenance": [],
      "authorship_tag": "ABX9TyOZjP1/v/mS6fENGja+CH3Q",
      "include_colab_link": true
    },
    "kernelspec": {
      "name": "python3",
      "display_name": "Python 3"
    },
    "language_info": {
      "name": "python"
    }
  },
  "cells": [
    {
      "cell_type": "markdown",
      "metadata": {
        "id": "view-in-github",
        "colab_type": "text"
      },
      "source": [
        "<a href=\"https://colab.research.google.com/github/goodwillhunting9/AI-Driven-Food-Security-Platform/blob/main/AI_Assignment2_21386825.ipynb\" target=\"_parent\"><img src=\"https://colab.research.google.com/assets/colab-badge.svg\" alt=\"Open In Colab\"/></a>"
      ]
    },
    {
      "cell_type": "code",
      "execution_count": null,
      "metadata": {
        "id": "nsScKt4luPH9"
      },
      "outputs": [],
      "source": [
        "# Step 1: Upload the file manually in Google Colab or use the path if it's already in Colab\n",
        "\n",
        "import pandas as pd\n",
        "\n",
        "# Step 2: Define the file path (update this if the file is uploaded via Colab interface)\n",
        "file_path = '/content/Twitter_Dataset.xlsx'\n",
        "\n",
        "# Step 3: Load the third sheet (sheet index starts from 0, so third sheet is index 2)\n",
        "df = pd.read_excel(file_path, sheet_name=2)\n",
        "\n",
        "# Step 4: Display the first few rows of the data to verify\n",
        "df.head()\n"
      ]
    },
    {
      "cell_type": "markdown",
      "source": [
        "Load the dataset."
      ],
      "metadata": {
        "id": "7Rql3eSawLtl"
      }
    },
    {
      "cell_type": "code",
      "source": [
        "# Load the dataset (third tab)\n",
        "file_path = '/content/Twitter_Dataset.xlsx'\n",
        "df = pd.read_excel(file_path, sheet_name=2)\n",
        "\n",
        "# Check the column names\n",
        "print(df.columns)\n"
      ],
      "metadata": {
        "id": "8hdXQckJwP69"
      },
      "execution_count": null,
      "outputs": []
    },
    {
      "cell_type": "markdown",
      "source": [
        "Step 1: Update the column reference in the code"
      ],
      "metadata": {
        "id": "JPlFin0XwoEz"
      }
    },
    {
      "cell_type": "code",
      "source": [
        "import re\n",
        "import pandas as pd\n",
        "import nltk\n",
        "from nltk.corpus import stopwords\n",
        "from collections import Counter\n",
        "from wordcloud import WordCloud\n",
        "import matplotlib.pyplot as plt\n",
        "\n",
        "# Download stopwords from nltk\n",
        "nltk.download('stopwords')\n",
        "stop_words = set(stopwords.words('english'))\n",
        "\n",
        "# Function to clean the text\n",
        "def clean_text(text):\n",
        "    # Remove URLs\n",
        "    text = re.sub(r\"http\\S+|www\\S+|https\\S+\", '', text, flags=re.MULTILINE)\n",
        "    # Remove mentions and hashtags\n",
        "    text = re.sub(r'\\@\\w+|\\#', '', text)\n",
        "    # Remove numbers\n",
        "    text = re.sub(r'\\d+', '', text)\n",
        "    # Remove special characters and punctuations\n",
        "    text = re.sub(r'[^\\w\\s]', '', text)\n",
        "    # Convert to lowercase\n",
        "    text = text.lower()\n",
        "    # Remove stopwords\n",
        "    words = text.split()\n",
        "    words = [word for word in words if word not in stop_words]\n",
        "    return ' '.join(words)\n",
        "\n",
        "# Apply the cleaning function to the 'Text' column\n",
        "df['cleaned_text'] = df['Text'].apply(clean_text)\n",
        "\n",
        "# Word Frequency\n",
        "word_list = ' '.join(df['cleaned_text']).split()\n",
        "word_freq = Counter(word_list)\n",
        "\n",
        "# Display the most common words\n",
        "print(word_freq.most_common(10))\n",
        "\n",
        "# Word Cloud\n",
        "wordcloud = WordCloud(width=800, height=400, background_color='white').generate(' '.join(word_list))\n",
        "plt.figure(figsize=(10, 5))\n",
        "plt.imshow(wordcloud, interpolation='bilinear')\n",
        "plt.axis(\"off\")\n",
        "plt.show()\n"
      ],
      "metadata": {
        "id": "Lyi0PN28wsGy"
      },
      "execution_count": null,
      "outputs": []
    },
    {
      "cell_type": "markdown",
      "source": [
        "N-Gram Analysis"
      ],
      "metadata": {
        "id": "TXIzraFGw_an"
      }
    },
    {
      "cell_type": "code",
      "source": [
        "from nltk import ngrams\n",
        "\n",
        "# Create bigrams (2-word combinations)\n",
        "bigrams = list(ngrams(' '.join(df['cleaned_text']).split(), 2))\n",
        "bigram_freq = Counter(bigrams)\n",
        "\n",
        "# Display the most common bigrams\n",
        "print(bigram_freq.most_common(10))\n"
      ],
      "metadata": {
        "id": "RuERjSFYxFNn"
      },
      "execution_count": null,
      "outputs": []
    },
    {
      "cell_type": "markdown",
      "source": [
        "Bi Grams"
      ],
      "metadata": {
        "id": "8O4jEdU87Xb0"
      }
    },
    {
      "cell_type": "code",
      "source": [
        "from nltk import ngrams\n",
        "\n",
        "# Create bigrams\n",
        "bigrams = list(ngrams(' '.join(df['cleaned_text']).split(), 2))\n",
        "bigram_freq = Counter(bigrams)\n",
        "\n",
        "# Display the most common bigrams\n",
        "print(bigram_freq.most_common(10))\n"
      ],
      "metadata": {
        "id": "KsGxtjNa7Zpr"
      },
      "execution_count": null,
      "outputs": []
    },
    {
      "cell_type": "markdown",
      "source": [
        "Visualising using a bar plot"
      ],
      "metadata": {
        "id": "_bBayyyY7j-C"
      }
    },
    {
      "cell_type": "code",
      "source": [
        "import matplotlib.pyplot as plt\n",
        "\n",
        "# Prepare data for plotting\n",
        "bigram_data = bigram_freq.most_common(10)\n",
        "labels, values = zip(*bigram_data)\n",
        "\n",
        "# Convert bigram tuples to strings for plotting\n",
        "labels = [' '.join(bigram) for bigram in labels]\n",
        "\n",
        "# Plot\n",
        "plt.figure(figsize=(10, 5))\n",
        "plt.barh(labels, values)\n",
        "plt.title('Top 10 Bigrams')\n",
        "plt.xlabel('Frequency')\n",
        "plt.ylabel('Bigrams')\n",
        "plt.show()\n"
      ],
      "metadata": {
        "id": "L3-LBtZY7rV-"
      },
      "execution_count": null,
      "outputs": []
    },
    {
      "cell_type": "markdown",
      "source": [
        "Tweet Count Stats over time"
      ],
      "metadata": {
        "id": "X0299h819W7Z"
      }
    },
    {
      "cell_type": "code",
      "source": [
        "# Convert 'Timestamp' to datetime\n",
        "df['Timestamp'] = pd.to_datetime(df['Timestamp'])\n",
        "\n",
        "# Group by day and count tweets\n",
        "tweet_counts = df.groupby(df['Timestamp'].dt.date)['Text'].count()\n",
        "\n",
        "# Plot tweet counts over time\n",
        "plt.figure(figsize=(10, 5))\n",
        "tweet_counts.plot(kind='line')\n",
        "plt.title('Tweet Counts Over Time')\n",
        "plt.xlabel('Date')\n",
        "plt.ylabel('Number of Tweets')\n",
        "plt.show()\n"
      ],
      "metadata": {
        "id": "0fPyGAM89bsB"
      },
      "execution_count": null,
      "outputs": []
    },
    {
      "cell_type": "markdown",
      "source": [
        "\n",
        "Sentiment Analysis:\n"
      ],
      "metadata": {
        "id": "mnAOwp3aup91"
      }
    },
    {
      "cell_type": "code",
      "source": [
        "from nltk.sentiment.vader import SentimentIntensityAnalyzer\n",
        "nltk.download('vader_lexicon')\n",
        "sid = SentimentIntensityAnalyzer()\n",
        "\n",
        "# Apply sentiment analysis\n",
        "df['sentiment'] = df['cleaned_text'].apply(lambda x: sid.polarity_scores(x)['compound'])\n",
        "\n",
        "# Group sentiment by day\n",
        "sentiment_over_time = df.groupby(df['Timestamp'].dt.date)['sentiment'].mean()\n",
        "\n",
        "# Plot sentiment over time\n",
        "plt.figure(figsize=(10, 5))\n",
        "sentiment_over_time.plot(kind='line')\n",
        "plt.title('Sentiment Over Time')\n",
        "plt.xlabel('Date')\n",
        "plt.ylabel('Sentiment Score')\n",
        "plt.show()\n"
      ],
      "metadata": {
        "id": "pTyOMuzpKi4d"
      },
      "execution_count": null,
      "outputs": []
    },
    {
      "cell_type": "markdown",
      "source": [
        "Topic Modelling"
      ],
      "metadata": {
        "id": "8CnzN-99-Oh7"
      }
    },
    {
      "cell_type": "code",
      "source": [
        "import gensim\n",
        "from gensim import corpora\n",
        "\n",
        "# Prepare data for LDA\n",
        "texts = [text.split() for text in df['cleaned_text']]\n",
        "dictionary = corpora.Dictionary(texts)\n",
        "corpus = [dictionary.doc2bow(text) for text in texts]\n",
        "\n",
        "# Train LDA model\n",
        "lda_model = gensim.models.LdaModel(corpus, num_topics=5, id2word=dictionary, passes=10)\n",
        "\n",
        "# Display topics\n",
        "for idx, topic in lda_model.print_topics(-1):\n",
        "    print(f'Topic: {idx} \\nWords: {topic}')\n"
      ],
      "metadata": {
        "id": "4e3JEQXh-TSV"
      },
      "execution_count": null,
      "outputs": []
    },
    {
      "cell_type": "markdown",
      "source": [
        "5. Creative Insight Extraction"
      ],
      "metadata": {
        "id": "pySBqvLM-sbE"
      }
    },
    {
      "cell_type": "code",
      "source": [
        "!pip install transformers\n",
        "\n",
        "from transformers import pipeline\n",
        "\n",
        "# Load sentiment analysis pipeline from Hugging Face (you can choose other models too)\n",
        "sentiment_model = pipeline('sentiment-analysis')\n",
        "\n",
        "# Analyze a sample tweet\n",
        "result = sentiment_model(df['cleaned_text'].iloc[0])\n",
        "print(result)\n"
      ],
      "metadata": {
        "id": "5nKymMMe-t8Z"
      },
      "execution_count": null,
      "outputs": []
    },
    {
      "cell_type": "markdown",
      "source": [],
      "metadata": {
        "id": "T--ZFzmN91CM"
      }
    },
    {
      "cell_type": "code",
      "source": [
        "import re\n",
        "import pandas as pd\n",
        "import nltk\n",
        "from nltk.corpus import stopwords\n",
        "from collections import Counter\n",
        "from wordcloud import WordCloud\n",
        "import matplotlib.pyplot as plt\n",
        "\n",
        "# Download stopwords from nltk\n",
        "nltk.download('stopwords')\n",
        "stop_words = set(stopwords.words('english'))\n",
        "\n",
        "# Function to clean the text\n",
        "def clean_text(text):\n",
        "    # Remove URLs\n",
        "    text = re.sub(r\"http\\S+|www\\S+|https\\S+\", '', text, flags=re.MULTILINE)\n",
        "    # Remove mentions and hashtags\n",
        "    text = re.sub(r'\\@\\w+|\\#', '', text)\n",
        "    # Remove numbers\n",
        "    text = re.sub(r'\\d+', '', text)\n",
        "    # Remove special characters and punctuations\n",
        "    text = re.sub(r'[^\\w\\s]', '', text)\n",
        "    # Convert to lowercase\n",
        "    text = text.lower()\n",
        "    # Remove stopwords\n",
        "    words = text.split()\n",
        "    words = [word for word in words if word not in stop_words]\n",
        "    return ' '.join(words)\n",
        "\n",
        "# Apply the cleaning function to the 'Text' column\n",
        "df['cleaned_text'] = df['Text'].apply(clean_text)\n",
        "\n",
        "# Word Frequency\n",
        "word_list = ' '.join(df['cleaned_text']).split()\n",
        "word_freq = Counter(word_list)\n",
        "\n",
        "# Display the most common words\n",
        "print(word_freq.most_common(10))\n",
        "\n",
        "# Word Cloud\n",
        "wordcloud = WordCloud(width=800, height=400, background_color='white').generate(' '.join(word_list))\n",
        "plt.figure(figsize=(10, 5))\n",
        "plt.imshow(wordcloud, interpolation='bilinear')\n",
        "plt.axis(\"off\")\n",
        "plt.show()\n"
      ],
      "metadata": {
        "id": "SADJB27aPhCR"
      },
      "execution_count": null,
      "outputs": []
    }
  ]
}