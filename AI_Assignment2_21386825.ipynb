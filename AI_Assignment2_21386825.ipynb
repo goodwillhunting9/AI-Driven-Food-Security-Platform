{
  "nbformat": 4,
  "nbformat_minor": 0,
  "metadata": {
    "colab": {
      "private_outputs": true,
      "provenance": [],
      "authorship_tag": "ABX9TyOqvbZQ9KZeouDQgdS79rSB",
      "include_colab_link": true
    },
    "kernelspec": {
      "name": "python3",
      "display_name": "Python 3"
    },
    "language_info": {
      "name": "python"
    }
  },
  "cells": [
    {
      "cell_type": "markdown",
      "metadata": {
        "id": "view-in-github",
        "colab_type": "text"
      },
      "source": [
        "<a href=\"https://colab.research.google.com/github/goodwillhunting9/AI-Driven-Food-Security-Platform/blob/main/AI_Assignment2_21386825.ipynb\" target=\"_parent\"><img src=\"https://colab.research.google.com/assets/colab-badge.svg\" alt=\"Open In Colab\"/></a>"
      ]
    },
    {
      "cell_type": "code",
      "execution_count": null,
      "metadata": {
        "id": "nsScKt4luPH9"
      },
      "outputs": [],
      "source": [
        "# Step 1: Upload the file manually in Google Colab or use the path if it's already in Colab\n",
        "\n",
        "import pandas as pd\n",
        "\n",
        "# Step 2: Define the file path (update this if the file is uploaded via Colab interface)\n",
        "file_path = '/content/Twitter_Dataset.xlsx'\n",
        "\n",
        "# Step 3: Load the third sheet (sheet index starts from 0, so third sheet is index 2)\n",
        "df = pd.read_excel(file_path, sheet_name=2)\n",
        "\n",
        "# Step 4: Display the first few rows of the data to verify\n",
        "df.head()\n"
      ]
    },
    {
      "cell_type": "markdown",
      "source": [
        "Load the dataset."
      ],
      "metadata": {
        "id": "7Rql3eSawLtl"
      }
    },
    {
      "cell_type": "code",
      "source": [
        "# Load the dataset (third tab)\n",
        "file_path = '/content/Twitter_Dataset.xlsx'\n",
        "df = pd.read_excel(file_path, sheet_name=2)\n",
        "\n",
        "# Check the column names\n",
        "print(df.columns)\n"
      ],
      "metadata": {
        "id": "8hdXQckJwP69"
      },
      "execution_count": null,
      "outputs": []
    },
    {
      "cell_type": "markdown",
      "source": [
        "Step 1: Update the column reference in the code"
      ],
      "metadata": {
        "id": "JPlFin0XwoEz"
      }
    },
    {
      "cell_type": "code",
      "source": [
        "import re\n",
        "import pandas as pd\n",
        "import nltk\n",
        "from nltk.corpus import stopwords\n",
        "from collections import Counter\n",
        "from wordcloud import WordCloud\n",
        "import matplotlib.pyplot as plt\n",
        "\n",
        "# Download stopwords from nltk\n",
        "nltk.download('stopwords')\n",
        "stop_words = set(stopwords.words('english'))\n",
        "\n",
        "# Function to clean the text\n",
        "def clean_text(text):\n",
        "    # Remove URLs\n",
        "    text = re.sub(r\"http\\S+|www\\S+|https\\S+\", '', text, flags=re.MULTILINE)\n",
        "    # Remove mentions and hashtags\n",
        "    text = re.sub(r'\\@\\w+|\\#', '', text)\n",
        "    # Remove numbers\n",
        "    text = re.sub(r'\\d+', '', text)\n",
        "    # Remove special characters and punctuations\n",
        "    text = re.sub(r'[^\\w\\s]', '', text)\n",
        "    # Convert to lowercase\n",
        "    text = text.lower()\n",
        "    # Remove stopwords\n",
        "    words = text.split()\n",
        "    words = [word for word in words if word not in stop_words]\n",
        "    return ' '.join(words)\n",
        "\n",
        "# Apply the cleaning function to the 'Text' column\n",
        "df['cleaned_text'] = df['Text'].apply(clean_text)\n",
        "\n",
        "# Word Frequency\n",
        "word_list = ' '.join(df['cleaned_text']).split()\n",
        "word_freq = Counter(word_list)\n",
        "\n",
        "# Display the most common words\n",
        "print(word_freq.most_common(10))\n",
        "\n",
        "# Word Cloud\n",
        "wordcloud = WordCloud(width=800, height=400, background_color='white').generate(' '.join(word_list))\n",
        "plt.figure(figsize=(10, 5))\n",
        "plt.imshow(wordcloud, interpolation='bilinear')\n",
        "plt.axis(\"off\")\n",
        "plt.show()\n"
      ],
      "metadata": {
        "id": "Lyi0PN28wsGy"
      },
      "execution_count": null,
      "outputs": []
    },
    {
      "cell_type": "markdown",
      "source": [
        "N-Gram Analysis"
      ],
      "metadata": {
        "id": "TXIzraFGw_an"
      }
    },
    {
      "cell_type": "code",
      "source": [
        "from nltk import ngrams\n",
        "\n",
        "# Create bigrams (2-word combinations)\n",
        "bigrams = list(ngrams(' '.join(df['cleaned_text']).split(), 2))\n",
        "bigram_freq = Counter(bigrams)\n",
        "\n",
        "# Display the most common bigrams\n",
        "print(bigram_freq.most_common(10))\n"
      ],
      "metadata": {
        "id": "RuERjSFYxFNn"
      },
      "execution_count": null,
      "outputs": []
    },
    {
      "cell_type": "markdown",
      "source": [
        "\n",
        "Sentiment Analysis:\n"
      ],
      "metadata": {
        "id": "mnAOwp3aup91"
      }
    },
    {
      "cell_type": "code",
      "source": [
        "from nltk.sentiment.vader import SentimentIntensityAnalyzer\n",
        "nltk.download('vader_lexicon')\n",
        "\n",
        "sid = SentimentIntensityAnalyzer()\n",
        "\n",
        "# Apply sentiment analysis\n",
        "df['sentiment'] = df['cleaned_text'].apply(lambda x: sid.polarity_scores(x)['compound'])\n",
        "\n",
        "# Show basic sentiment stats\n",
        "print(df['sentiment'].describe())\n",
        "\n",
        "# Visualize sentiment over time (assuming you have date info)\n",
        "df['Timestamp'] = pd.to_datetime(df['Timestamp'])  # Assuming 'Timestamp' is the time column\n",
        "df.groupby(df['Timestamp'].dt.to_period('M'))['sentiment'].mean().plot(kind='line', figsize=(10, 5))\n",
        "plt.title('Sentiment Over Time')\n",
        "plt.show()\n"
      ],
      "metadata": {
        "id": "pTyOMuzpKi4d"
      },
      "execution_count": null,
      "outputs": []
    },
    {
      "cell_type": "code",
      "source": [
        "import re\n",
        "import pandas as pd\n",
        "import nltk\n",
        "from nltk.corpus import stopwords\n",
        "from collections import Counter\n",
        "from wordcloud import WordCloud\n",
        "import matplotlib.pyplot as plt\n",
        "\n",
        "# Download stopwords from nltk\n",
        "nltk.download('stopwords')\n",
        "stop_words = set(stopwords.words('english'))\n",
        "\n",
        "# Function to clean the text\n",
        "def clean_text(text):\n",
        "    # Remove URLs\n",
        "    text = re.sub(r\"http\\S+|www\\S+|https\\S+\", '', text, flags=re.MULTILINE)\n",
        "    # Remove mentions and hashtags\n",
        "    text = re.sub(r'\\@\\w+|\\#', '', text)\n",
        "    # Remove numbers\n",
        "    text = re.sub(r'\\d+', '', text)\n",
        "    # Remove special characters and punctuations\n",
        "    text = re.sub(r'[^\\w\\s]', '', text)\n",
        "    # Convert to lowercase\n",
        "    text = text.lower()\n",
        "    # Remove stopwords\n",
        "    words = text.split()\n",
        "    words = [word for word in words if word not in stop_words]\n",
        "    return ' '.join(words)\n",
        "\n",
        "# Apply the cleaning function to the 'Text' column\n",
        "df['cleaned_text'] = df['Text'].apply(clean_text)\n",
        "\n",
        "# Word Frequency\n",
        "word_list = ' '.join(df['cleaned_text']).split()\n",
        "word_freq = Counter(word_list)\n",
        "\n",
        "# Display the most common words\n",
        "print(word_freq.most_common(10))\n",
        "\n",
        "# Word Cloud\n",
        "wordcloud = WordCloud(width=800, height=400, background_color='white').generate(' '.join(word_list))\n",
        "plt.figure(figsize=(10, 5))\n",
        "plt.imshow(wordcloud, interpolation='bilinear')\n",
        "plt.axis(\"off\")\n",
        "plt.show()\n"
      ],
      "metadata": {
        "id": "SADJB27aPhCR"
      },
      "execution_count": null,
      "outputs": []
    }
  ]
}