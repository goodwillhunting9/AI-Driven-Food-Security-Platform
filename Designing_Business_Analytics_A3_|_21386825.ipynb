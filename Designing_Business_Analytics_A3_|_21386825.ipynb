{
  "nbformat": 4,
  "nbformat_minor": 0,
  "metadata": {
    "colab": {
      "private_outputs": true,
      "provenance": [],
      "authorship_tag": "ABX9TyNRrETYEs4ToimF/1DBwOBS",
      "include_colab_link": true
    },
    "kernelspec": {
      "name": "python3",
      "display_name": "Python 3"
    },
    "language_info": {
      "name": "python"
    }
  },
  "cells": [
    {
      "cell_type": "markdown",
      "metadata": {
        "id": "view-in-github",
        "colab_type": "text"
      },
      "source": [
        "<a href=\"https://colab.research.google.com/github/goodwillhunting9/AI-Driven-Food-Security-Platform/blob/main/Designing_Business_Analytics_A3_%7C_21386825.ipynb\" target=\"_parent\"><img src=\"https://colab.research.google.com/assets/colab-badge.svg\" alt=\"Open In Colab\"/></a>"
      ]
    },
    {
      "cell_type": "code",
      "execution_count": null,
      "metadata": {
        "id": "lFlZLJ04KPVS"
      },
      "outputs": [],
      "source": [
        "Unzipping the file: It extracts the CSV from the ZIP file and places it in the /content/ directory.\n",
        "Loading and previewing the data: The dataset is loaded into a pandas DataFrame and the first five rows are displayed to give you a glimpse of its structure.\n",
        "Checking for missing values and duplicates: The script will identify any missing or duplicate data and handle them.\n",
        "Data types and summary statistics: This will provide insights into the data types of each column and give a summary of the numerical features.\n",
        "Class distribution check: This checks the distribution of the target variable (Class), which indicates fraudulent and non-fraudulent transactions.\n",
        "Saving the cleaned dataset: The cleaned dataset will be saved as creditcard_cleaned.csv in the /content/ directory for further analysis"
      ]
    },
    {
      "cell_type": "markdown",
      "source": [],
      "metadata": {
        "id": "6_yEj3BuL09s"
      }
    },
    {
      "cell_type": "markdown",
      "source": [],
      "metadata": {
        "id": "-trpjdlJLmwv"
      }
    },
    {
      "cell_type": "code",
      "source": [
        "# Step 1: Import necessary libraries\n",
        "import pandas as pd\n",
        "import zipfile\n",
        "\n",
        "# Step 2: Extract and load the dataset from the ZIP file\n",
        "zip_file_path = '/content/creditcard.csv.zip'  # Path to the ZIP file\n",
        "\n",
        "# Unzip the file\n",
        "with zipfile.ZipFile(zip_file_path, 'r') as zip_ref:\n",
        "    zip_ref.extractall('/content/')  # Extracts into the /content/ directory in Colab\n",
        "\n",
        "# Load the CSV file (assuming it is named 'creditcard.csv' after extraction)\n",
        "csv_file_path = '/content/creditcard.csv'  # Path to the extracted CSV file\n",
        "df = pd.read_csv(csv_file_path)\n",
        "\n",
        "# Step 3: Display the first few rows to understand the dataset structure\n",
        "print(\"First 5 rows of the dataset:\")\n",
        "print(df.head())\n",
        "\n",
        "# Step 4: Check for missing values\n",
        "print(\"\\nChecking for missing values:\")\n",
        "missing_values = df.isnull().sum()\n",
        "print(missing_values[missing_values > 0])\n",
        "\n",
        "# Step 5: Handle missing values (if any) - here we drop them, but you could impute as necessary\n",
        "df_cleaned = df.dropna()  # Drop rows with missing values\n",
        "# Alternatively, you can fill missing values like this:\n",
        "# df_cleaned = df.fillna(df.median())  # Impute missing values with median\n",
        "\n",
        "# Step 6: Remove duplicate rows (if any)\n",
        "print(\"\\nChecking for duplicate rows:\")\n",
        "duplicate_rows = df_cleaned.duplicated().sum()\n",
        "print(f\"Number of duplicate rows: {duplicate_rows}\")\n",
        "df_cleaned = df_cleaned.drop_duplicates()\n",
        "\n",
        "# Step 7: Check for data types of the columns\n",
        "print(\"\\nData types of each column:\")\n",
        "print(df_cleaned.dtypes)\n",
        "\n",
        "# Step 8: Summary statistics of the numerical features\n",
        "print(\"\\nSummary statistics of numerical features:\")\n",
        "print(df_cleaned.describe())\n",
        "\n",
        "# Step 9: Inspect the class distribution (fraudulent vs non-fraudulent transactions)\n",
        "print(\"\\nClass distribution (fraud vs non-fraud):\")\n",
        "print(df_cleaned['Class'].value_counts())\n",
        "\n",
        "# Step 10: Save the cleaned dataset to a new CSV file in the /content/ directory\n",
        "output_file_path = '/content/creditcard_cleaned.csv'  # You can download this file from Colab after cleaning\n",
        "df_cleaned.to_csv(output_file_path, index=False)\n",
        "print(f\"\\nCleaned dataset saved as {output_file_path}\")\n"
      ],
      "metadata": {
        "id": "iCRsxBqKK0TN"
      },
      "execution_count": null,
      "outputs": []
    },
    {
      "cell_type": "markdown",
      "source": [
        "Step 1: Exploratory Data Analysis (EDA)\n"
      ],
      "metadata": {
        "id": "HJR07SMbL8YU"
      }
    },
    {
      "cell_type": "code",
      "source": [
        "# Step 1: Import necessary libraries for visualization\n",
        "import matplotlib.pyplot as plt\n",
        "import seaborn as sns\n",
        "\n",
        "# Set the aesthetic style for the plots\n",
        "sns.set(style=\"whitegrid\")\n",
        "\n",
        "# Step 2: Check for class imbalance (fraudulent vs non-fraudulent transactions)\n",
        "plt.figure(figsize=(6,4))\n",
        "sns.countplot(x='Class', data=df_cleaned)\n",
        "plt.title('Class Distribution (0: Non-fraud, 1: Fraud)')\n",
        "plt.show()\n",
        "\n",
        "# Step 3: Correlation matrix\n",
        "plt.figure(figsize=(12,10))\n",
        "corr_matrix = df_cleaned.corr()\n",
        "sns.heatmap(corr_matrix, annot=False, cmap='coolwarm')\n",
        "plt.title('Correlation Matrix')\n",
        "plt.show()\n",
        "\n",
        "# Step 4: Distribution of the transaction amounts\n",
        "plt.figure(figsize=(6,4))\n",
        "sns.histplot(df_cleaned['Amount'], bins=50, kde=True)\n",
        "plt.title('Distribution of Transaction Amounts')\n",
        "plt.show()\n",
        "\n",
        "# Step 5: Time feature analysis (if 'Time' is a feature in your dataset)\n",
        "plt.figure(figsize=(6,4))\n",
        "sns.histplot(df_cleaned['Time'], bins=50, kde=True)\n",
        "plt.title('Distribution of Transaction Times')\n",
        "plt.show()\n"
      ],
      "metadata": {
        "id": "DYNreyAnL-Su"
      },
      "execution_count": null,
      "outputs": []
    },
    {
      "cell_type": "markdown",
      "source": [
        "Feature Engineering"
      ],
      "metadata": {
        "id": "ygzoqb-cM4XI"
      }
    },
    {
      "cell_type": "code",
      "source": [
        "# Feature Engineering: Transaction Velocity\n",
        "df_cleaned['Transaction_Velocity'] = df_cleaned.groupby('Time')['Amount'].transform(lambda x: x.rolling(window=10, min_periods=1).sum())\n",
        "\n",
        "# Inspect new feature\n",
        "print(df_cleaned[['Time', 'Amount', 'Transaction_Velocity']].head())\n"
      ],
      "metadata": {
        "id": "OgK5ysn1NFdk"
      },
      "execution_count": null,
      "outputs": []
    },
    {
      "cell_type": "markdown",
      "source": [
        "b. Handling Imbalance: Fraudulent transactions are usually much less frequent, so you'll need to handle this class imbalance. You can use techniques like SMOTE (Synthetic Minority Over-sampling Technique) or undersampling. Here's an example using SMOTE:"
      ],
      "metadata": {
        "id": "npNehbz0Naox"
      }
    },
    {
      "cell_type": "code",
      "source": [
        "# Step 1: Install imbalanced-learn library (if needed)\n",
        "!pip install -U imbalanced-learn\n",
        "\n",
        "# Step 2: Import SMOTE and apply to balance the classes\n",
        "from imblearn.over_sampling import SMOTE\n",
        "from sklearn.model_selection import train_test_split\n",
        "\n",
        "# Separate features and target\n",
        "X = df_cleaned.drop('Class', axis=1)  # Features\n",
        "y = df_cleaned['Class']  # Target (fraud or non-fraud)\n",
        "\n",
        "# Split data into training and test sets\n",
        "X_train, X_test, y_train, y_test = train_test_split(X, y, test_size=0.3, random_state=42)\n",
        "\n",
        "# Apply SMOTE to balance the training set\n",
        "smote = SMOTE(random_state=42)\n",
        "X_train_sm, y_train_sm = smote.fit_resample(X_train, y_train)\n",
        "\n",
        "# Check the class distribution after SMOTE\n",
        "print(\"Class distribution before SMOTE:\", y_train.value_counts())\n",
        "print(\"Class distribution after SMOTE:\", y_train_sm.value_counts())\n"
      ],
      "metadata": {
        "id": "ET62BvYRNdDq"
      },
      "execution_count": null,
      "outputs": []
    },
    {
      "cell_type": "markdown",
      "source": [
        "Step 3: Model Training\n",
        "Now that your data is clean, features are engineered, and the class imbalance is addressed, you're ready for model training. Here’s a quick code to train a Random Forest classifier as an example:"
      ],
      "metadata": {
        "id": "j458LRyhN0mB"
      }
    },
    {
      "cell_type": "code",
      "source": [
        "from sklearn.ensemble import RandomForestClassifier\n",
        "from sklearn.metrics import classification_report, confusion_matrix\n",
        "\n",
        "# Step 1: Train a Random Forest classifier\n",
        "rf = RandomForestClassifier(n_estimators=100, random_state=42)\n",
        "rf.fit(X_train_sm, y_train_sm)\n",
        "\n",
        "# Step 2: Make predictions\n",
        "y_pred = rf.predict(X_test)\n",
        "\n",
        "# Step 3: Evaluate the model\n",
        "print(confusion_matrix(y_test, y_pred))\n",
        "print(classification_report(y_test, y_pred))\n"
      ],
      "metadata": {
        "id": "qrn0y3CON9qK"
      },
      "execution_count": null,
      "outputs": []
    },
    {
      "cell_type": "markdown",
      "source": [
        "Hyperparameter Tuning"
      ],
      "metadata": {
        "id": "LcrBe7JmP066"
      }
    },
    {
      "cell_type": "code",
      "source": [
        "from sklearn.model_selection import GridSearchCV\n",
        "\n",
        "param_grid = {\n",
        "    'n_estimators': [100, 200, 300],\n",
        "    'max_depth': [10, 20, None],\n",
        "    'min_samples_split': [2, 5, 10],\n",
        "    'min_samples_leaf': [1, 2, 4],\n",
        "}\n",
        "\n",
        "grid_search = GridSearchCV(estimator=rf, param_grid=param_grid, cv=3, n_jobs=-1, verbose=2)\n",
        "grid_search.fit(X_train_sm, y_train_sm)\n",
        "\n",
        "print(\"Best parameters:\", grid_search.best_params_)\n"
      ],
      "metadata": {
        "id": "hNtyByPBQHl1"
      },
      "execution_count": null,
      "outputs": []
    },
    {
      "cell_type": "markdown",
      "source": [
        "Ensemble Models"
      ],
      "metadata": {
        "id": "YXD51EhhSsvl"
      }
    },
    {
      "cell_type": "code",
      "source": [
        "from sklearn.ensemble import StackingClassifier\n",
        "from sklearn.svm import SVC\n",
        "\n",
        "estimators = [\n",
        "    ('rf', RandomForestClassifier(n_estimators=100)),\n",
        "    ('svc', SVC(probability=True))\n",
        "]\n",
        "\n",
        "stack_model = StackingClassifier(estimators=estimators, final_estimator=RandomForestClassifier())\n",
        "stack_model.fit(X_train_sm, y_train_sm)\n",
        "\n",
        "y_pred_stack = stack_model.predict(X_test)\n",
        "print(confusion_matrix(y_test, y_pred_stack))\n",
        "print(classification_report(y_test, y_pred_stack))\n"
      ],
      "metadata": {
        "id": "uDtEfx_pS2XW"
      },
      "execution_count": null,
      "outputs": []
    },
    {
      "cell_type": "markdown",
      "source": [
        "Model Explainability: To make the model explainable, especially in a financial fraud context, you can use SHAP or LIME to interpret the feature importance for each prediction"
      ],
      "metadata": {
        "id": "PKxUEaMMS74i"
      }
    },
    {
      "cell_type": "code",
      "source": [
        "import shap\n",
        "\n",
        "explainer = shap.TreeExplainer(rf)\n",
        "shap_values = explainer.shap_values(X_test)\n",
        "\n",
        "shap.summary_plot(shap_values[1], X_test)  # For class 1 (fraud)\n"
      ],
      "metadata": {
        "id": "O0H_5J2-S9Jl"
      },
      "execution_count": null,
      "outputs": []
    },
    {
      "cell_type": "markdown",
      "source": [
        "Cross-Validation: Use cross-validation to evaluate the model’s performance across multiple folds of the data, ensuring that the model generalizes well and isn't overfitting."
      ],
      "metadata": {
        "id": "E4HNjwx4TNtP"
      }
    },
    {
      "cell_type": "code",
      "source": [
        "from sklearn.model_selection import cross_val_score\n",
        "\n",
        "scores = cross_val_score(rf, X_train_sm, y_train_sm, cv=5, scoring='accuracy')\n",
        "print(f\"Cross-Validation Accuracy: {scores.mean()}\")\n"
      ],
      "metadata": {
        "id": "DqHPMIzaTQPS"
      },
      "execution_count": null,
      "outputs": []
    }
  ]
}