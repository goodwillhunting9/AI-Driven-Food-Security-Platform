{
  "nbformat": 4,
  "nbformat_minor": 0,
  "metadata": {
    "colab": {
      "private_outputs": true,
      "provenance": [],
      "toc_visible": true,
      "authorship_tag": "ABX9TyM0DfNM8qJea1fI2sI+nMOp",
      "include_colab_link": true
    },
    "kernelspec": {
      "name": "python3",
      "display_name": "Python 3"
    },
    "language_info": {
      "name": "python"
    }
  },
  "cells": [
    {
      "cell_type": "markdown",
      "metadata": {
        "id": "view-in-github",
        "colab_type": "text"
      },
      "source": [
        "<a href=\"https://colab.research.google.com/github/goodwillhunting9/AI-Driven-Food-Security-Platform/blob/main/ASSIGNMENT1AIHYPER_KETAN.ipynb\" target=\"_parent\"><img src=\"https://colab.research.google.com/assets/colab-badge.svg\" alt=\"Open In Colab\"/></a>"
      ]
    },
    {
      "cell_type": "markdown",
      "source": [],
      "metadata": {
        "id": "UH2miFSrwZz9"
      }
    },
    {
      "cell_type": "markdown",
      "source": [
        "Creating the Dataset:\n",
        "The synthetic data is generated with random values for Hunger_Index, Food_Production_Index, and Undernourishment.\n",
        "The data covers three fictional countries over five years (2018-2022).\n",
        "Loading and Inspecting the Data:\n",
        "The dataset is loaded directly from the DataFrame, and basic inspection (head, summary statistics) is performed.\n",
        "Filtering and Visualization:\n",
        "The data is filtered for Country A and visualized using a line plot to show the Hunger Index over the years."
      ],
      "metadata": {
        "id": "HoyP0XjPCwZp"
      }
    },
    {
      "cell_type": "code",
      "source": [
        "import pandas as pd\n",
        "import numpy as np\n",
        "\n",
        "# Define the data\n",
        "data = {\n",
        "    'Country': ['Country A', 'Country B', 'Country C'] * 5,\n",
        "    'Year': [2018, 2018, 2018, 2019, 2019, 2019, 2020, 2020, 2020, 2021, 2021, 2021, 2022, 2022, 2022],\n",
        "    'Hunger_Index': np.random.uniform(20, 50, 15),  # Random hunger index values between 20 and 50\n",
        "    'Food_Production_Index': np.random.uniform(80, 120, 15),  # Random food production index values\n",
        "    'Undernourishment': np.random.uniform(10, 30, 15)  # Random percentage of undernourished population\n",
        "}\n",
        "\n",
        "# Convert to DataFrame\n",
        "df = pd.DataFrame(data)\n",
        "\n",
        "# Display the dataset\n",
        "print(df)\n",
        "\n",
        "# Save the dataset as a CSV file (optional, for later use)\n",
        "df.to_csv('synthetic_food_security_data.csv', index=False)\n"
      ],
      "metadata": {
        "id": "1Uj84ct-xDUj"
      },
      "execution_count": null,
      "outputs": []
    },
    {
      "cell_type": "code",
      "source": [
        "# Display the first few rows of the dataset\n",
        "print(\"Dataset successfully created and loaded:\")\n",
        "print(df.head())\n",
        "\n",
        "# Example Analysis: Display summary statistics\n",
        "print(\"\\nSummary Statistics:\")\n",
        "print(df.describe())\n",
        "\n",
        "# Check for missing values\n",
        "print(\"\\nMissing Values in Each Column:\")\n",
        "print(df.isnull().sum())\n"
      ],
      "metadata": {
        "id": "W8H5h2wwDBNa"
      },
      "execution_count": null,
      "outputs": []
    },
    {
      "cell_type": "code",
      "source": [
        "# Filter the data for 'Country A'\n",
        "filtered_data = df[df['Country'] == 'Country A']\n",
        "\n",
        "# Display the filtered data\n",
        "print(\"\\nFiltered Data for Country A:\")\n",
        "print(filtered_data)\n",
        "\n",
        "# Visualize the Hunger Index over the years for 'Country A'\n",
        "import matplotlib.pyplot as plt\n",
        "\n",
        "plt.figure(figsize=(10, 6))\n",
        "plt.plot(filtered_data['Year'], filtered_data['Hunger_Index'], marker='o')\n",
        "plt.title('Hunger Index over Years for Country A')\n",
        "plt.xlabel('Year')\n",
        "plt.ylabel('Hunger Index')\n",
        "plt.grid(True)\n",
        "plt.show()\n"
      ],
      "metadata": {
        "id": "zBx8p2pYDE01"
      },
      "execution_count": null,
      "outputs": []
    },
    {
      "cell_type": "markdown",
      "source": [
        "1. Comparing Hunger Index Across Countries\n",
        "\n",
        "You might want to compare the Hunger Index for all countries over the years:"
      ],
      "metadata": {
        "id": "FKPgYD-hCZaT"
      }
    },
    {
      "cell_type": "code",
      "source": [
        "import matplotlib.pyplot as plt\n",
        "\n",
        "# Plot Hunger Index for all countries over the years\n",
        "plt.figure(figsize=(12, 8))\n",
        "\n",
        "for country in df['Country'].unique():\n",
        "    country_data = df[df['Country'] == country]\n",
        "    plt.plot(country_data['Year'], country_data['Hunger_Index'], marker='o', label=country)\n",
        "\n",
        "plt.title('Hunger Index Over the Years for All Countries')\n",
        "plt.xlabel('Year')\n",
        "plt.ylabel('Hunger Index')\n",
        "plt.grid(True)\n",
        "plt.legend()\n",
        "plt.show()\n"
      ],
      "metadata": {
        "id": "CSFBY659CZvm"
      },
      "execution_count": null,
      "outputs": []
    },
    {
      "cell_type": "code",
      "source": [
        "# Plot Food Production Index for all countries over the years\n",
        "plt.figure(figsize=(12, 8))\n",
        "\n",
        "for country in df['Country'].unique():\n",
        "    country_data = df[df['Country'] == country]\n",
        "    plt.plot(country_data['Year'], country_data['Food_Production_Index'], marker='s', label=country)\n",
        "\n",
        "plt.title('Food Production Index Over the Years for All Countries')\n",
        "plt.xlabel('Year')\n",
        "plt.ylabel('Food Production Index')\n",
        "plt.grid(True)\n",
        "plt.legend()\n",
        "plt.show()\n"
      ],
      "metadata": {
        "id": "Ag2CroSrDvu4"
      },
      "execution_count": null,
      "outputs": []
    },
    {
      "cell_type": "markdown",
      "source": [],
      "metadata": {
        "id": "Ypo5qs_mwdbD"
      }
    },
    {
      "cell_type": "code",
      "source": [
        "# Calculate the correlation matrix for numerical columns only\n",
        "numerical_columns = df.select_dtypes(include=[np.number])  # This selects only numeric columns\n",
        "correlation_matrix = numerical_columns.corr()\n",
        "\n",
        "# Display the correlation matrix\n",
        "print(\"Correlation Matrix:\")\n",
        "print(correlation_matrix)\n",
        "\n",
        "# Visualize the correlation matrix using a heatmap\n",
        "import seaborn as sns\n",
        "\n",
        "plt.figure(figsize=(8, 6))\n",
        "sns.heatmap(correlation_matrix, annot=True, cmap='coolwarm', vmin=-1, vmax=1)\n",
        "plt.title('Correlation Matrix Heatmap')\n",
        "plt.show()\n"
      ],
      "metadata": {
        "id": "BPpyoacLDoBS"
      },
      "execution_count": null,
      "outputs": []
    },
    {
      "cell_type": "markdown",
      "source": [
        "*italicized text*# New Section"
      ],
      "metadata": {
        "id": "2buuQ9pdY0Mn"
      }
    },
    {
      "cell_type": "markdown",
      "source": [
        "# New Section"
      ],
      "metadata": {
        "id": "_PQnBJcwY0uW"
      }
    },
    {
      "cell_type": "markdown",
      "source": [
        "Interpretation of the Correlation Matrix:\n",
        "Year:\n",
        "Correlation with Hunger_Index (0.097): The correlation between Year and Hunger_Index is very low, indicating that there isn't a strong linear relationship between the year and the hunger index in this synthetic dataset.\n",
        "Correlation with Food_Production_Index (-0.227): There is a weak negative correlation, suggesting that as the years progress, there is a slight decrease in the food production index, but this relationship is not strong.\n",
        "Correlation with Undernourishment (0.205): There is a weak positive correlation, meaning that as time goes on, undernourishment tends to increase slightly, but again, this is a weak relationship.\n",
        "Hunger_Index:\n",
        "Correlation with Food_Production_Index (0.234): There is a weak positive correlation, indicating that higher food production is somewhat associated with a higher hunger index in this dataset. This might be counterintuitive and could indicate issues such as unequal distribution or inefficiencies in how food is produced versus how it is consumed.\n",
        "Correlation with Undernourishment (-0.339): This negative correlation suggests that as the hunger index increases, undernourishment decreases, which is not typical in real-world scenarios. This could be due to the randomness in the synthetic data, or it might suggest a complex relationship where regions with higher hunger indexes are actually better at mitigating severe undernourishment.\n",
        "Food_Production_Index:\n",
        "Correlation with Undernourishment (0.233): A weak positive correlation suggests that higher food production is slightly associated with higher levels of undernourishment. This could imply that food production increases do not necessarily lead to better nutritional outcomes, possibly due to distribution issues or other factors.\n",
        "Undernourishment:\n",
        "The correlations with other variables have already been discussed above.\n",
        "Visualizing the Correlations:\n",
        "The heatmap you generated provides a clear visual summary of these relationships. Typically, you'd expect strong positive correlations between variables like food production and decreased hunger, but since this is synthetic data, the relationships may not follow real-world patterns."
      ],
      "metadata": {
        "id": "HtKLEAo9EG4N"
      }
    }
  ]
}