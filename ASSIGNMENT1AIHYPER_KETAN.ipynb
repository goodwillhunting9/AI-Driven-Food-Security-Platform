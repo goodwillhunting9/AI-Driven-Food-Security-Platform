{
  "cells": [
    {
      "cell_type": "markdown",
      "metadata": {
        "id": "UH2miFSrwZz9"
      },
      "source": []
    },
    {
      "cell_type": "markdown",
      "metadata": {
        "id": "HoyP0XjPCwZp"
      },
      "source": [
        "Creating the Dataset:\n",
        "The synthetic data is generated with random values for Hunger_Index, Food_Production_Index, and Undernourishment.\n",
        "The data covers three fictional countries over five years (2018-2022).\n",
        "Loading and Inspecting the Data:\n",
        "The dataset is loaded directly from the DataFrame, and basic inspection (head, summary statistics) is performed.\n",
        "Filtering and Visualization:\n",
        "The data is filtered for Country A and visualized using a line plot to show the Hunger Index over the years."
      ]
    },
    {
      "cell_type": "code",
      "execution_count": 7,
      "metadata": {
        "id": "W8H5h2wwDBNa"
      },
      "outputs": [
        {
          "ename": "SyntaxError",
          "evalue": "invalid syntax (1048225456.py, line 1)",
          "output_type": "error",
          "traceback": [
            "\u001b[0;36m  Cell \u001b[0;32mIn[7], line 1\u001b[0;36m\u001b[0m\n\u001b[0;31m    pip install pandas\u001b[0m\n\u001b[0m        ^\u001b[0m\n\u001b[0;31mSyntaxError\u001b[0m\u001b[0;31m:\u001b[0m invalid syntax\n"
          ]
        }
      ],
      "source": [
        "pip install pandas\n",
        "\n"
      ]
    },
    {
      "cell_type": "code",
      "execution_count": null,
      "metadata": {},
      "outputs": [],
      "source": [
        "import pandas as pd\n",
        "import numpy as np\n",
        "\n",
        "# Define the data\n",
        "data = {\n",
        "    'Country': ['Country A', 'Country B', 'Country C'] * 5,\n",
        "    'Year': [2018, 2018, 2018, 2019, 2019, 2019, 2020, 2020, 2020, 2021, 2021, 2021, 2022, 2022, 2022],\n",
        "    'Hunger_Index': np.random.uniform(20, 50, 15),  # Random hunger index values between 20 and 50\n",
        "    'Food_Production_Index': np.random.uniform(80, 120, 15),  # Random food production index values\n",
        "    'Undernourishment': np.random.uniform(10, 30, 15)  # Random percentage of undernourished population\n",
        "}\n",
        "\n",
        "# Convert to DataFrame\n",
        "df = pd.DataFrame(data)\n",
        "\n",
        "# Display the dataset\n",
        "print(df)\n",
        "\n",
        "# Save the dataset as a CSV file (optional, for later use)\n",
        "df.to_csv('synthetic_food_security_data.csv', index=False)"
      ]
    },
    {
      "cell_type": "code",
      "execution_count": null,
      "metadata": {
        "id": "zBx8p2pYDE01"
      },
      "outputs": [],
      "source": [
        "# Filter the data for 'Country A'\n",
        "filtered_data = df[df['Country'] == 'Country A']\n",
        "\n",
        "# Display the filtered data\n",
        "print(\"\\nFiltered Data for Country A:\")\n",
        "print(filtered_data)\n",
        "\n",
        "# Visualize the Hunger Index over the years for 'Country A'\n",
        "import matplotlib.pyplot as plt\n",
        "\n",
        "plt.figure(figsize=(10, 6))\n",
        "plt.plot(filtered_data['Year'], filtered_data['Hunger_Index'], marker='o')\n",
        "plt.title('Hunger Index over Years for Country A')\n",
        "plt.xlabel('Year')\n",
        "plt.ylabel('Hunger Index')\n",
        "plt.grid(True)\n",
        "plt.show()\n"
      ]
    },
    {
      "cell_type": "markdown",
      "metadata": {
        "id": "FKPgYD-hCZaT"
      },
      "source": [
        "1. Comparing Hunger Index Across Countries\n",
        "\n",
        "You might want to compare the Hunger Index for all countries over the years:"
      ]
    },
    {
      "cell_type": "code",
      "execution_count": 3,
      "metadata": {
        "id": "CSFBY659CZvm"
      },
      "outputs": [
        {
          "ename": "ModuleNotFoundError",
          "evalue": "No module named 'matplotlib'",
          "output_type": "error",
          "traceback": [
            "\u001b[0;31m---------------------------------------------------------------------------\u001b[0m",
            "\u001b[0;31mModuleNotFoundError\u001b[0m                       Traceback (most recent call last)",
            "\u001b[1;32m/Users/work/Desktop/AI & Hyperautomation/ASSIGNMENT1AIHYPER_KETAN.ipynb Cell 7\u001b[0m line \u001b[0;36m1\n\u001b[0;32m----> <a href='vscode-notebook-cell:/Users/work/Desktop/AI%20%26%20Hyperautomation/ASSIGNMENT1AIHYPER_KETAN.ipynb#W6sZmlsZQ%3D%3D?line=0'>1</a>\u001b[0m \u001b[39mimport\u001b[39;00m \u001b[39mmatplotlib\u001b[39;00m\u001b[39m.\u001b[39;00m\u001b[39mpyplot\u001b[39;00m \u001b[39mas\u001b[39;00m \u001b[39mplt\u001b[39;00m\n\u001b[1;32m      <a href='vscode-notebook-cell:/Users/work/Desktop/AI%20%26%20Hyperautomation/ASSIGNMENT1AIHYPER_KETAN.ipynb#W6sZmlsZQ%3D%3D?line=2'>3</a>\u001b[0m \u001b[39m# Plot Hunger Index for all countries over the years\u001b[39;00m\n\u001b[1;32m      <a href='vscode-notebook-cell:/Users/work/Desktop/AI%20%26%20Hyperautomation/ASSIGNMENT1AIHYPER_KETAN.ipynb#W6sZmlsZQ%3D%3D?line=3'>4</a>\u001b[0m plt\u001b[39m.\u001b[39mfigure(figsize\u001b[39m=\u001b[39m(\u001b[39m12\u001b[39m, \u001b[39m8\u001b[39m))\n",
            "\u001b[0;31mModuleNotFoundError\u001b[0m: No module named 'matplotlib'"
          ]
        }
      ],
      "source": [
        "import matplotlib.pyplot as plt\n",
        "\n",
        "# Plot Hunger Index for all countries over the years\n",
        "plt.figure(figsize=(12, 8))\n",
        "\n",
        "for country in df['Country'].unique():\n",
        "    country_data = df[df['Country'] == country]\n",
        "    plt.plot(country_data['Year'], country_data['Hunger_Index'], marker='o', label=country)\n",
        "\n",
        "plt.title('Hunger Index Over the Years for All Countries')\n",
        "plt.xlabel('Year')\n",
        "plt.ylabel('Hunger Index')\n",
        "plt.grid(True)\n",
        "plt.legend()\n",
        "plt.show()\n"
      ]
    },
    {
      "cell_type": "code",
      "execution_count": 4,
      "metadata": {
        "id": "Ag2CroSrDvu4"
      },
      "outputs": [
        {
          "ename": "NameError",
          "evalue": "name 'plt' is not defined",
          "output_type": "error",
          "traceback": [
            "\u001b[0;31m---------------------------------------------------------------------------\u001b[0m",
            "\u001b[0;31mNameError\u001b[0m                                 Traceback (most recent call last)",
            "\u001b[1;32m/Users/work/Desktop/AI & Hyperautomation/ASSIGNMENT1AIHYPER_KETAN.ipynb Cell 8\u001b[0m line \u001b[0;36m2\n\u001b[1;32m      <a href='vscode-notebook-cell:/Users/work/Desktop/AI%20%26%20Hyperautomation/ASSIGNMENT1AIHYPER_KETAN.ipynb#X10sZmlsZQ%3D%3D?line=0'>1</a>\u001b[0m \u001b[39m# Plot Food Production Index for all countries over the years\u001b[39;00m\n\u001b[0;32m----> <a href='vscode-notebook-cell:/Users/work/Desktop/AI%20%26%20Hyperautomation/ASSIGNMENT1AIHYPER_KETAN.ipynb#X10sZmlsZQ%3D%3D?line=1'>2</a>\u001b[0m plt\u001b[39m.\u001b[39mfigure(figsize\u001b[39m=\u001b[39m(\u001b[39m12\u001b[39m, \u001b[39m8\u001b[39m))\n\u001b[1;32m      <a href='vscode-notebook-cell:/Users/work/Desktop/AI%20%26%20Hyperautomation/ASSIGNMENT1AIHYPER_KETAN.ipynb#X10sZmlsZQ%3D%3D?line=3'>4</a>\u001b[0m \u001b[39mfor\u001b[39;00m country \u001b[39min\u001b[39;00m df[\u001b[39m'\u001b[39m\u001b[39mCountry\u001b[39m\u001b[39m'\u001b[39m]\u001b[39m.\u001b[39munique():\n\u001b[1;32m      <a href='vscode-notebook-cell:/Users/work/Desktop/AI%20%26%20Hyperautomation/ASSIGNMENT1AIHYPER_KETAN.ipynb#X10sZmlsZQ%3D%3D?line=4'>5</a>\u001b[0m     country_data \u001b[39m=\u001b[39m df[df[\u001b[39m'\u001b[39m\u001b[39mCountry\u001b[39m\u001b[39m'\u001b[39m] \u001b[39m==\u001b[39m country]\n",
            "\u001b[0;31mNameError\u001b[0m: name 'plt' is not defined"
          ]
        }
      ],
      "source": [
        "# Plot Food Production Index for all countries over the years\n",
        "plt.figure(figsize=(12, 8))\n",
        "\n",
        "for country in df['Country'].unique():\n",
        "    country_data = df[df['Country'] == country]\n",
        "    plt.plot(country_data['Year'], country_data['Food_Production_Index'], marker='s', label=country)\n",
        "\n",
        "plt.title('Food Production Index Over the Years for All Countries')\n",
        "plt.xlabel('Year')\n",
        "plt.ylabel('Food Production Index')\n",
        "plt.grid(True)\n",
        "plt.legend()\n",
        "plt.show()\n"
      ]
    },
    {
      "cell_type": "markdown",
      "metadata": {
        "id": "Ypo5qs_mwdbD"
      },
      "source": []
    },
    {
      "cell_type": "code",
      "execution_count": null,
      "metadata": {
        "id": "BPpyoacLDoBS"
      },
      "outputs": [],
      "source": [
        "# Calculate the correlation matrix for numerical columns only\n",
        "numerical_columns = df.select_dtypes(include=[np.number])  # This selects only numeric columns\n",
        "correlation_matrix = numerical_columns.corr()\n",
        "\n",
        "# Display the correlation matrix\n",
        "print(\"Correlation Matrix:\")\n",
        "print(correlation_matrix)\n",
        "\n",
        "# Visualize the correlation matrix using a heatmap\n",
        "import seaborn as sns\n",
        "\n",
        "plt.figure(figsize=(8, 6))\n",
        "sns.heatmap(correlation_matrix, annot=True, cmap='coolwarm', vmin=-1, vmax=1)\n",
        "plt.title('Correlation Matrix Heatmap')\n",
        "plt.show()\n"
      ]
    },
    {
      "cell_type": "markdown",
      "metadata": {
        "id": "HtKLEAo9EG4N"
      },
      "source": [
        "Interpretation of the Correlation Matrix:\n",
        "Year:\n",
        "Correlation with Hunger_Index (0.097): The correlation between Year and Hunger_Index is very low, indicating that there isn't a strong linear relationship between the year and the hunger index in this synthetic dataset.\n",
        "Correlation with Food_Production_Index (-0.227): There is a weak negative correlation, suggesting that as the years progress, there is a slight decrease in the food production index, but this relationship is not strong.\n",
        "Correlation with Undernourishment (0.205): There is a weak positive correlation, meaning that as time goes on, undernourishment tends to increase slightly, but again, this is a weak relationship.\n",
        "Hunger_Index:\n",
        "Correlation with Food_Production_Index (0.234): There is a weak positive correlation, indicating that higher food production is somewhat associated with a higher hunger index in this dataset. This might be counterintuitive and could indicate issues such as unequal distribution or inefficiencies in how food is produced versus how it is consumed.\n",
        "Correlation with Undernourishment (-0.339): This negative correlation suggests that as the hunger index increases, undernourishment decreases, which is not typical in real-world scenarios. This could be due to the randomness in the synthetic data, or it might suggest a complex relationship where regions with higher hunger indexes are actually better at mitigating severe undernourishment.\n",
        "Food_Production_Index:\n",
        "Correlation with Undernourishment (0.233): A weak positive correlation suggests that higher food production is slightly associated with higher levels of undernourishment. This could imply that food production increases do not necessarily lead to better nutritional outcomes, possibly due to distribution issues or other factors.\n",
        "Undernourishment:\n",
        "The correlations with other variables have already been discussed above.\n",
        "Visualizing the Correlations:\n",
        "The heatmap you generated provides a clear visual summary of these relationships. Typically, you'd expect strong positive correlations between variables like food production and decreased hunger, but since this is synthetic data, the relationships may not follow real-world patterns."
      ]
    }
  ],
  "metadata": {
    "colab": {
      "private_outputs": true,
      "provenance": [],
      "toc_visible": true
    },
    "kernelspec": {
      "display_name": "Python 3",
      "name": "python3"
    },
    "language_info": {
      "codemirror_mode": {
        "name": "ipython",
        "version": 3
      },
      "file_extension": ".py",
      "mimetype": "text/x-python",
      "name": "python",
      "nbconvert_exporter": "python",
      "pygments_lexer": "ipython3",
      "version": "3.9.6"
    }
  },
  "nbformat": 4,
  "nbformat_minor": 0
}
